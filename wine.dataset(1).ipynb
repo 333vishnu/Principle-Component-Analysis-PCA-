{
 "cells": [
  {
   "cell_type": "code",
   "execution_count": 1,
   "id": "078c884b",
   "metadata": {
    "ExecuteTime": {
     "end_time": "2022-11-14T05:35:43.417887Z",
     "start_time": "2022-11-14T05:35:41.051546Z"
    }
   },
   "outputs": [],
   "source": [
    "import numpy as np\n",
    "import pandas as pd\n",
    "from matplotlib import pyplot as plt\n",
    "from sklearn.cluster import KMeans\n",
    "from sklearn.preprocessing import StandardScaler\n",
    "from sklearn import preprocessing\n",
    "import seaborn as sns\n",
    "from sklearn.decomposition import PCA\n",
    "import scipy.cluster.hierarchy as sch\n",
    "from sklearn.cluster import AgglomerativeClustering\n",
    "from scipy.cluster.hierarchy import linkage"
   ]
  },
  {
   "cell_type": "code",
   "execution_count": 2,
   "id": "e60f5b05",
   "metadata": {
    "ExecuteTime": {
     "end_time": "2022-11-14T05:36:15.889469Z",
     "start_time": "2022-11-14T05:36:15.869471Z"
    }
   },
   "outputs": [],
   "source": [
    "df = pd.read_csv(\"wine.csv\")"
   ]
  },
  {
   "cell_type": "code",
   "execution_count": 3,
   "id": "d0798c68",
   "metadata": {
    "ExecuteTime": {
     "end_time": "2022-11-14T05:36:58.594862Z",
     "start_time": "2022-11-14T05:36:58.579531Z"
    }
   },
   "outputs": [],
   "source": [
    "hd = df.iloc[:, 1:]"
   ]
  },
  {
   "cell_type": "code",
   "execution_count": 5,
   "id": "08f84f1e",
   "metadata": {
    "ExecuteTime": {
     "end_time": "2022-11-14T05:37:30.982015Z",
     "start_time": "2022-11-14T05:37:30.943087Z"
    }
   },
   "outputs": [
    {
     "data": {
      "text/html": [
       "<div>\n",
       "<style scoped>\n",
       "    .dataframe tbody tr th:only-of-type {\n",
       "        vertical-align: middle;\n",
       "    }\n",
       "\n",
       "    .dataframe tbody tr th {\n",
       "        vertical-align: top;\n",
       "    }\n",
       "\n",
       "    .dataframe thead th {\n",
       "        text-align: right;\n",
       "    }\n",
       "</style>\n",
       "<table border=\"1\" class=\"dataframe\">\n",
       "  <thead>\n",
       "    <tr style=\"text-align: right;\">\n",
       "      <th></th>\n",
       "      <th>Alcohol</th>\n",
       "      <th>Malic</th>\n",
       "      <th>Ash</th>\n",
       "      <th>Alcalinity</th>\n",
       "      <th>Magnesium</th>\n",
       "      <th>Phenols</th>\n",
       "      <th>Flavanoids</th>\n",
       "      <th>Nonflavanoids</th>\n",
       "      <th>Proanthocyanins</th>\n",
       "      <th>Color</th>\n",
       "      <th>Hue</th>\n",
       "      <th>Dilution</th>\n",
       "      <th>Proline</th>\n",
       "    </tr>\n",
       "  </thead>\n",
       "  <tbody>\n",
       "    <tr>\n",
       "      <th>0</th>\n",
       "      <td>14.23</td>\n",
       "      <td>1.71</td>\n",
       "      <td>2.43</td>\n",
       "      <td>15.6</td>\n",
       "      <td>127</td>\n",
       "      <td>2.80</td>\n",
       "      <td>3.06</td>\n",
       "      <td>0.28</td>\n",
       "      <td>2.29</td>\n",
       "      <td>5.64</td>\n",
       "      <td>1.04</td>\n",
       "      <td>3.92</td>\n",
       "      <td>1065</td>\n",
       "    </tr>\n",
       "    <tr>\n",
       "      <th>1</th>\n",
       "      <td>13.20</td>\n",
       "      <td>1.78</td>\n",
       "      <td>2.14</td>\n",
       "      <td>11.2</td>\n",
       "      <td>100</td>\n",
       "      <td>2.65</td>\n",
       "      <td>2.76</td>\n",
       "      <td>0.26</td>\n",
       "      <td>1.28</td>\n",
       "      <td>4.38</td>\n",
       "      <td>1.05</td>\n",
       "      <td>3.40</td>\n",
       "      <td>1050</td>\n",
       "    </tr>\n",
       "    <tr>\n",
       "      <th>2</th>\n",
       "      <td>13.16</td>\n",
       "      <td>2.36</td>\n",
       "      <td>2.67</td>\n",
       "      <td>18.6</td>\n",
       "      <td>101</td>\n",
       "      <td>2.80</td>\n",
       "      <td>3.24</td>\n",
       "      <td>0.30</td>\n",
       "      <td>2.81</td>\n",
       "      <td>5.68</td>\n",
       "      <td>1.03</td>\n",
       "      <td>3.17</td>\n",
       "      <td>1185</td>\n",
       "    </tr>\n",
       "    <tr>\n",
       "      <th>3</th>\n",
       "      <td>14.37</td>\n",
       "      <td>1.95</td>\n",
       "      <td>2.50</td>\n",
       "      <td>16.8</td>\n",
       "      <td>113</td>\n",
       "      <td>3.85</td>\n",
       "      <td>3.49</td>\n",
       "      <td>0.24</td>\n",
       "      <td>2.18</td>\n",
       "      <td>7.80</td>\n",
       "      <td>0.86</td>\n",
       "      <td>3.45</td>\n",
       "      <td>1480</td>\n",
       "    </tr>\n",
       "    <tr>\n",
       "      <th>4</th>\n",
       "      <td>13.24</td>\n",
       "      <td>2.59</td>\n",
       "      <td>2.87</td>\n",
       "      <td>21.0</td>\n",
       "      <td>118</td>\n",
       "      <td>2.80</td>\n",
       "      <td>2.69</td>\n",
       "      <td>0.39</td>\n",
       "      <td>1.82</td>\n",
       "      <td>4.32</td>\n",
       "      <td>1.04</td>\n",
       "      <td>2.93</td>\n",
       "      <td>735</td>\n",
       "    </tr>\n",
       "  </tbody>\n",
       "</table>\n",
       "</div>"
      ],
      "text/plain": [
       "   Alcohol  Malic   Ash  Alcalinity  Magnesium  Phenols  Flavanoids  \\\n",
       "0    14.23   1.71  2.43        15.6        127     2.80        3.06   \n",
       "1    13.20   1.78  2.14        11.2        100     2.65        2.76   \n",
       "2    13.16   2.36  2.67        18.6        101     2.80        3.24   \n",
       "3    14.37   1.95  2.50        16.8        113     3.85        3.49   \n",
       "4    13.24   2.59  2.87        21.0        118     2.80        2.69   \n",
       "\n",
       "   Nonflavanoids  Proanthocyanins  Color   Hue  Dilution  Proline  \n",
       "0           0.28             2.29   5.64  1.04      3.92     1065  \n",
       "1           0.26             1.28   4.38  1.05      3.40     1050  \n",
       "2           0.30             2.81   5.68  1.03      3.17     1185  \n",
       "3           0.24             2.18   7.80  0.86      3.45     1480  \n",
       "4           0.39             1.82   4.32  1.04      2.93      735  "
      ]
     },
     "execution_count": 5,
     "metadata": {},
     "output_type": "execute_result"
    }
   ],
   "source": [
    "hd.head()"
   ]
  },
  {
   "cell_type": "code",
   "execution_count": 6,
   "id": "f823d0f4",
   "metadata": {
    "ExecuteTime": {
     "end_time": "2022-11-14T05:38:00.062302Z",
     "start_time": "2022-11-14T05:38:00.014631Z"
    }
   },
   "outputs": [
    {
     "data": {
      "text/html": [
       "<div>\n",
       "<style scoped>\n",
       "    .dataframe tbody tr th:only-of-type {\n",
       "        vertical-align: middle;\n",
       "    }\n",
       "\n",
       "    .dataframe tbody tr th {\n",
       "        vertical-align: top;\n",
       "    }\n",
       "\n",
       "    .dataframe thead th {\n",
       "        text-align: right;\n",
       "    }\n",
       "</style>\n",
       "<table border=\"1\" class=\"dataframe\">\n",
       "  <thead>\n",
       "    <tr style=\"text-align: right;\">\n",
       "      <th></th>\n",
       "      <th>Alcohol</th>\n",
       "      <th>Malic</th>\n",
       "      <th>Ash</th>\n",
       "      <th>Alcalinity</th>\n",
       "      <th>Magnesium</th>\n",
       "      <th>Phenols</th>\n",
       "      <th>Flavanoids</th>\n",
       "      <th>Nonflavanoids</th>\n",
       "      <th>Proanthocyanins</th>\n",
       "      <th>Color</th>\n",
       "      <th>Hue</th>\n",
       "      <th>Dilution</th>\n",
       "      <th>Proline</th>\n",
       "    </tr>\n",
       "  </thead>\n",
       "  <tbody>\n",
       "    <tr>\n",
       "      <th>count</th>\n",
       "      <td>178.000000</td>\n",
       "      <td>178.000000</td>\n",
       "      <td>178.000000</td>\n",
       "      <td>178.000000</td>\n",
       "      <td>178.000000</td>\n",
       "      <td>178.000000</td>\n",
       "      <td>178.000000</td>\n",
       "      <td>178.000000</td>\n",
       "      <td>178.000000</td>\n",
       "      <td>178.000000</td>\n",
       "      <td>178.000000</td>\n",
       "      <td>178.000000</td>\n",
       "      <td>178.000000</td>\n",
       "    </tr>\n",
       "    <tr>\n",
       "      <th>mean</th>\n",
       "      <td>13.000618</td>\n",
       "      <td>2.336348</td>\n",
       "      <td>2.366517</td>\n",
       "      <td>19.494944</td>\n",
       "      <td>99.741573</td>\n",
       "      <td>2.295112</td>\n",
       "      <td>2.029270</td>\n",
       "      <td>0.361854</td>\n",
       "      <td>1.590899</td>\n",
       "      <td>5.058090</td>\n",
       "      <td>0.957449</td>\n",
       "      <td>2.611685</td>\n",
       "      <td>746.893258</td>\n",
       "    </tr>\n",
       "    <tr>\n",
       "      <th>std</th>\n",
       "      <td>0.811827</td>\n",
       "      <td>1.117146</td>\n",
       "      <td>0.274344</td>\n",
       "      <td>3.339564</td>\n",
       "      <td>14.282484</td>\n",
       "      <td>0.625851</td>\n",
       "      <td>0.998859</td>\n",
       "      <td>0.124453</td>\n",
       "      <td>0.572359</td>\n",
       "      <td>2.318286</td>\n",
       "      <td>0.228572</td>\n",
       "      <td>0.709990</td>\n",
       "      <td>314.907474</td>\n",
       "    </tr>\n",
       "    <tr>\n",
       "      <th>min</th>\n",
       "      <td>11.030000</td>\n",
       "      <td>0.740000</td>\n",
       "      <td>1.360000</td>\n",
       "      <td>10.600000</td>\n",
       "      <td>70.000000</td>\n",
       "      <td>0.980000</td>\n",
       "      <td>0.340000</td>\n",
       "      <td>0.130000</td>\n",
       "      <td>0.410000</td>\n",
       "      <td>1.280000</td>\n",
       "      <td>0.480000</td>\n",
       "      <td>1.270000</td>\n",
       "      <td>278.000000</td>\n",
       "    </tr>\n",
       "    <tr>\n",
       "      <th>25%</th>\n",
       "      <td>12.362500</td>\n",
       "      <td>1.602500</td>\n",
       "      <td>2.210000</td>\n",
       "      <td>17.200000</td>\n",
       "      <td>88.000000</td>\n",
       "      <td>1.742500</td>\n",
       "      <td>1.205000</td>\n",
       "      <td>0.270000</td>\n",
       "      <td>1.250000</td>\n",
       "      <td>3.220000</td>\n",
       "      <td>0.782500</td>\n",
       "      <td>1.937500</td>\n",
       "      <td>500.500000</td>\n",
       "    </tr>\n",
       "    <tr>\n",
       "      <th>50%</th>\n",
       "      <td>13.050000</td>\n",
       "      <td>1.865000</td>\n",
       "      <td>2.360000</td>\n",
       "      <td>19.500000</td>\n",
       "      <td>98.000000</td>\n",
       "      <td>2.355000</td>\n",
       "      <td>2.135000</td>\n",
       "      <td>0.340000</td>\n",
       "      <td>1.555000</td>\n",
       "      <td>4.690000</td>\n",
       "      <td>0.965000</td>\n",
       "      <td>2.780000</td>\n",
       "      <td>673.500000</td>\n",
       "    </tr>\n",
       "    <tr>\n",
       "      <th>75%</th>\n",
       "      <td>13.677500</td>\n",
       "      <td>3.082500</td>\n",
       "      <td>2.557500</td>\n",
       "      <td>21.500000</td>\n",
       "      <td>107.000000</td>\n",
       "      <td>2.800000</td>\n",
       "      <td>2.875000</td>\n",
       "      <td>0.437500</td>\n",
       "      <td>1.950000</td>\n",
       "      <td>6.200000</td>\n",
       "      <td>1.120000</td>\n",
       "      <td>3.170000</td>\n",
       "      <td>985.000000</td>\n",
       "    </tr>\n",
       "    <tr>\n",
       "      <th>max</th>\n",
       "      <td>14.830000</td>\n",
       "      <td>5.800000</td>\n",
       "      <td>3.230000</td>\n",
       "      <td>30.000000</td>\n",
       "      <td>162.000000</td>\n",
       "      <td>3.880000</td>\n",
       "      <td>5.080000</td>\n",
       "      <td>0.660000</td>\n",
       "      <td>3.580000</td>\n",
       "      <td>13.000000</td>\n",
       "      <td>1.710000</td>\n",
       "      <td>4.000000</td>\n",
       "      <td>1680.000000</td>\n",
       "    </tr>\n",
       "  </tbody>\n",
       "</table>\n",
       "</div>"
      ],
      "text/plain": [
       "          Alcohol       Malic         Ash  Alcalinity   Magnesium     Phenols  \\\n",
       "count  178.000000  178.000000  178.000000  178.000000  178.000000  178.000000   \n",
       "mean    13.000618    2.336348    2.366517   19.494944   99.741573    2.295112   \n",
       "std      0.811827    1.117146    0.274344    3.339564   14.282484    0.625851   \n",
       "min     11.030000    0.740000    1.360000   10.600000   70.000000    0.980000   \n",
       "25%     12.362500    1.602500    2.210000   17.200000   88.000000    1.742500   \n",
       "50%     13.050000    1.865000    2.360000   19.500000   98.000000    2.355000   \n",
       "75%     13.677500    3.082500    2.557500   21.500000  107.000000    2.800000   \n",
       "max     14.830000    5.800000    3.230000   30.000000  162.000000    3.880000   \n",
       "\n",
       "       Flavanoids  Nonflavanoids  Proanthocyanins       Color         Hue  \\\n",
       "count  178.000000     178.000000       178.000000  178.000000  178.000000   \n",
       "mean     2.029270       0.361854         1.590899    5.058090    0.957449   \n",
       "std      0.998859       0.124453         0.572359    2.318286    0.228572   \n",
       "min      0.340000       0.130000         0.410000    1.280000    0.480000   \n",
       "25%      1.205000       0.270000         1.250000    3.220000    0.782500   \n",
       "50%      2.135000       0.340000         1.555000    4.690000    0.965000   \n",
       "75%      2.875000       0.437500         1.950000    6.200000    1.120000   \n",
       "max      5.080000       0.660000         3.580000   13.000000    1.710000   \n",
       "\n",
       "         Dilution      Proline  \n",
       "count  178.000000   178.000000  \n",
       "mean     2.611685   746.893258  \n",
       "std      0.709990   314.907474  \n",
       "min      1.270000   278.000000  \n",
       "25%      1.937500   500.500000  \n",
       "50%      2.780000   673.500000  \n",
       "75%      3.170000   985.000000  \n",
       "max      4.000000  1680.000000  "
      ]
     },
     "execution_count": 6,
     "metadata": {},
     "output_type": "execute_result"
    }
   ],
   "source": [
    "hd.describe()"
   ]
  },
  {
   "cell_type": "code",
   "execution_count": 7,
   "id": "a0f47840",
   "metadata": {
    "ExecuteTime": {
     "end_time": "2022-11-14T05:38:52.777488Z",
     "start_time": "2022-11-14T05:38:52.762244Z"
    }
   },
   "outputs": [],
   "source": [
    "## correlation between variables\n",
    "cor = hd.corr()"
   ]
  },
  {
   "cell_type": "code",
   "execution_count": 8,
   "id": "576333e5",
   "metadata": {
    "ExecuteTime": {
     "end_time": "2022-11-14T05:39:19.384081Z",
     "start_time": "2022-11-14T05:39:19.341389Z"
    }
   },
   "outputs": [
    {
     "data": {
      "text/html": [
       "<style type=\"text/css\">\n",
       "#T_97415_row0_col0, #T_97415_row1_col1, #T_97415_row2_col2, #T_97415_row3_col3, #T_97415_row4_col4, #T_97415_row5_col5, #T_97415_row6_col6, #T_97415_row7_col7, #T_97415_row8_col8, #T_97415_row9_col9, #T_97415_row10_col10, #T_97415_row11_col11, #T_97415_row12_col12 {\n",
       "  background-color: #b40426;\n",
       "  color: #f1f1f1;\n",
       "}\n",
       "#T_97415_row0_col1, #T_97415_row0_col4 {\n",
       "  background-color: #c6d6f1;\n",
       "  color: #000000;\n",
       "}\n",
       "#T_97415_row0_col2 {\n",
       "  background-color: #93b5fe;\n",
       "  color: #000000;\n",
       "}\n",
       "#T_97415_row0_col3 {\n",
       "  background-color: #5673e0;\n",
       "  color: #f1f1f1;\n",
       "}\n",
       "#T_97415_row0_col5, #T_97415_row12_col8, #T_97415_row12_col10 {\n",
       "  background-color: #dfdbd9;\n",
       "  color: #000000;\n",
       "}\n",
       "#T_97415_row0_col6 {\n",
       "  background-color: #dddcdc;\n",
       "  color: #000000;\n",
       "}\n",
       "#T_97415_row0_col7, #T_97415_row4_col3, #T_97415_row9_col8, #T_97415_row10_col4 {\n",
       "  background-color: #8caffe;\n",
       "  color: #000000;\n",
       "}\n",
       "#T_97415_row0_col8 {\n",
       "  background-color: #b6cefa;\n",
       "  color: #000000;\n",
       "}\n",
       "#T_97415_row0_col9 {\n",
       "  background-color: #f7ac8e;\n",
       "  color: #000000;\n",
       "}\n",
       "#T_97415_row0_col10 {\n",
       "  background-color: #a3c2fe;\n",
       "  color: #000000;\n",
       "}\n",
       "#T_97415_row0_col11 {\n",
       "  background-color: #bbd1f8;\n",
       "  color: #000000;\n",
       "}\n",
       "#T_97415_row0_col12 {\n",
       "  background-color: #f4987a;\n",
       "  color: #000000;\n",
       "}\n",
       "#T_97415_row1_col0, #T_97415_row2_col10, #T_97415_row9_col2 {\n",
       "  background-color: #a2c1ff;\n",
       "  color: #000000;\n",
       "}\n",
       "#T_97415_row1_col2 {\n",
       "  background-color: #82a6fb;\n",
       "  color: #f1f1f1;\n",
       "}\n",
       "#T_97415_row1_col3, #T_97415_row1_col9 {\n",
       "  background-color: #dedcdb;\n",
       "  color: #000000;\n",
       "}\n",
       "#T_97415_row1_col4 {\n",
       "  background-color: #6e90f2;\n",
       "  color: #f1f1f1;\n",
       "}\n",
       "#T_97415_row1_col5, #T_97415_row8_col2 {\n",
       "  background-color: #536edd;\n",
       "  color: #f1f1f1;\n",
       "}\n",
       "#T_97415_row1_col6, #T_97415_row5_col3 {\n",
       "  background-color: #5470de;\n",
       "  color: #f1f1f1;\n",
       "}\n",
       "#T_97415_row1_col7, #T_97415_row12_col11 {\n",
       "  background-color: #e7d7ce;\n",
       "  color: #000000;\n",
       "}\n",
       "#T_97415_row1_col8 {\n",
       "  background-color: #5b7ae5;\n",
       "  color: #f1f1f1;\n",
       "}\n",
       "#T_97415_row1_col10, #T_97415_row3_col0, #T_97415_row3_col12, #T_97415_row6_col7, #T_97415_row7_col4, #T_97415_row7_col5, #T_97415_row7_col6, #T_97415_row7_col8, #T_97415_row7_col11, #T_97415_row10_col1, #T_97415_row10_col2, #T_97415_row10_col9, #T_97415_row12_col3 {\n",
       "  background-color: #3b4cc0;\n",
       "  color: #f1f1f1;\n",
       "}\n",
       "#T_97415_row1_col11, #T_97415_row3_col5, #T_97415_row7_col12 {\n",
       "  background-color: #5572df;\n",
       "  color: #f1f1f1;\n",
       "}\n",
       "#T_97415_row1_col12 {\n",
       "  background-color: #7295f4;\n",
       "  color: #f1f1f1;\n",
       "}\n",
       "#T_97415_row2_col0, #T_97415_row4_col10 {\n",
       "  background-color: #bfd3f6;\n",
       "  color: #000000;\n",
       "}\n",
       "#T_97415_row2_col1, #T_97415_row2_col12 {\n",
       "  background-color: #d3dbe7;\n",
       "  color: #000000;\n",
       "}\n",
       "#T_97415_row2_col3 {\n",
       "  background-color: #f3c7b1;\n",
       "  color: #000000;\n",
       "}\n",
       "#T_97415_row2_col4 {\n",
       "  background-color: #cad8ef;\n",
       "  color: #000000;\n",
       "}\n",
       "#T_97415_row2_col5 {\n",
       "  background-color: #c0d4f5;\n",
       "  color: #000000;\n",
       "}\n",
       "#T_97415_row2_col6 {\n",
       "  background-color: #c7d7f0;\n",
       "  color: #000000;\n",
       "}\n",
       "#T_97415_row2_col7, #T_97415_row10_col12 {\n",
       "  background-color: #d5dbe5;\n",
       "  color: #000000;\n",
       "}\n",
       "#T_97415_row2_col8 {\n",
       "  background-color: #96b7ff;\n",
       "  color: #000000;\n",
       "}\n",
       "#T_97415_row2_col9 {\n",
       "  background-color: #e0dbd8;\n",
       "  color: #000000;\n",
       "}\n",
       "#T_97415_row2_col11, #T_97415_row4_col2 {\n",
       "  background-color: #abc8fd;\n",
       "  color: #000000;\n",
       "}\n",
       "#T_97415_row3_col1 {\n",
       "  background-color: #e8d6cc;\n",
       "  color: #000000;\n",
       "}\n",
       "#T_97415_row3_col2, #T_97415_row10_col8 {\n",
       "  background-color: #d8dce2;\n",
       "  color: #000000;\n",
       "}\n",
       "#T_97415_row3_col4 {\n",
       "  background-color: #6687ed;\n",
       "  color: #f1f1f1;\n",
       "}\n",
       "#T_97415_row3_col6, #T_97415_row3_col8, #T_97415_row11_col1 {\n",
       "  background-color: #6180e9;\n",
       "  color: #f1f1f1;\n",
       "}\n",
       "#T_97415_row3_col7 {\n",
       "  background-color: #efcebd;\n",
       "  color: #000000;\n",
       "}\n",
       "#T_97415_row3_col9 {\n",
       "  background-color: #b1cbfc;\n",
       "  color: #000000;\n",
       "}\n",
       "#T_97415_row3_col10 {\n",
       "  background-color: #7699f6;\n",
       "  color: #f1f1f1;\n",
       "}\n",
       "#T_97415_row3_col11 {\n",
       "  background-color: #6a8bef;\n",
       "  color: #f1f1f1;\n",
       "}\n",
       "#T_97415_row4_col0 {\n",
       "  background-color: #cdd9ec;\n",
       "  color: #000000;\n",
       "}\n",
       "#T_97415_row4_col1, #T_97415_row8_col9 {\n",
       "  background-color: #a7c5fe;\n",
       "  color: #000000;\n",
       "}\n",
       "#T_97415_row4_col5, #T_97415_row5_col0 {\n",
       "  background-color: #d2dbe8;\n",
       "  color: #000000;\n",
       "}\n",
       "#T_97415_row4_col6 {\n",
       "  background-color: #d7dce3;\n",
       "  color: #000000;\n",
       "}\n",
       "#T_97415_row4_col7, #T_97415_row10_col0 {\n",
       "  background-color: #7597f6;\n",
       "  color: #f1f1f1;\n",
       "}\n",
       "#T_97415_row4_col8, #T_97415_row9_col7 {\n",
       "  background-color: #ccd9ed;\n",
       "  color: #000000;\n",
       "}\n",
       "#T_97415_row4_col9 {\n",
       "  background-color: #d6dce4;\n",
       "  color: #000000;\n",
       "}\n",
       "#T_97415_row4_col11 {\n",
       "  background-color: #b9d0f9;\n",
       "  color: #000000;\n",
       "}\n",
       "#T_97415_row4_col12 {\n",
       "  background-color: #efcfbf;\n",
       "  color: #000000;\n",
       "}\n",
       "#T_97415_row5_col1, #T_97415_row12_col7 {\n",
       "  background-color: #688aef;\n",
       "  color: #f1f1f1;\n",
       "}\n",
       "#T_97415_row5_col2, #T_97415_row7_col10 {\n",
       "  background-color: #779af7;\n",
       "  color: #f1f1f1;\n",
       "}\n",
       "#T_97415_row5_col4 {\n",
       "  background-color: #b7cff9;\n",
       "  color: #000000;\n",
       "}\n",
       "#T_97415_row5_col6 {\n",
       "  background-color: #d24b40;\n",
       "  color: #f1f1f1;\n",
       "}\n",
       "#T_97415_row5_col7 {\n",
       "  background-color: #4b64d5;\n",
       "  color: #f1f1f1;\n",
       "}\n",
       "#T_97415_row5_col8 {\n",
       "  background-color: #f7a688;\n",
       "  color: #000000;\n",
       "}\n",
       "#T_97415_row5_col9 {\n",
       "  background-color: #a1c0ff;\n",
       "  color: #000000;\n",
       "}\n",
       "#T_97415_row5_col10 {\n",
       "  background-color: #f5c0a7;\n",
       "  color: #000000;\n",
       "}\n",
       "#T_97415_row5_col11 {\n",
       "  background-color: #ee8468;\n",
       "  color: #f1f1f1;\n",
       "}\n",
       "#T_97415_row5_col12, #T_97415_row6_col12 {\n",
       "  background-color: #f6bda2;\n",
       "  color: #000000;\n",
       "}\n",
       "#T_97415_row6_col0 {\n",
       "  background-color: #c5d6f2;\n",
       "  color: #000000;\n",
       "}\n",
       "#T_97415_row6_col1 {\n",
       "  background-color: #5875e1;\n",
       "  color: #f1f1f1;\n",
       "}\n",
       "#T_97415_row6_col2, #T_97415_row10_col7 {\n",
       "  background-color: #7396f5;\n",
       "  color: #f1f1f1;\n",
       "}\n",
       "#T_97415_row6_col3, #T_97415_row11_col9 {\n",
       "  background-color: #4c66d6;\n",
       "  color: #f1f1f1;\n",
       "}\n",
       "#T_97415_row6_col4, #T_97415_row9_col4 {\n",
       "  background-color: #b3cdfb;\n",
       "  color: #000000;\n",
       "}\n",
       "#T_97415_row6_col5 {\n",
       "  background-color: #d44e41;\n",
       "  color: #f1f1f1;\n",
       "}\n",
       "#T_97415_row6_col8 {\n",
       "  background-color: #f59c7d;\n",
       "  color: #000000;\n",
       "}\n",
       "#T_97415_row6_col9 {\n",
       "  background-color: #85a8fc;\n",
       "  color: #f1f1f1;\n",
       "}\n",
       "#T_97415_row6_col10 {\n",
       "  background-color: #f7a98b;\n",
       "  color: #000000;\n",
       "}\n",
       "#T_97415_row6_col11 {\n",
       "  background-color: #e26952;\n",
       "  color: #f1f1f1;\n",
       "}\n",
       "#T_97415_row7_col0 {\n",
       "  background-color: #5f7fe8;\n",
       "  color: #f1f1f1;\n",
       "}\n",
       "#T_97415_row7_col1, #T_97415_row8_col10, #T_97415_row12_col9 {\n",
       "  background-color: #e9d5cb;\n",
       "  color: #000000;\n",
       "}\n",
       "#T_97415_row7_col2 {\n",
       "  background-color: #8badfd;\n",
       "  color: #000000;\n",
       "}\n",
       "#T_97415_row7_col3 {\n",
       "  background-color: #ead4c8;\n",
       "  color: #000000;\n",
       "}\n",
       "#T_97415_row7_col9 {\n",
       "  background-color: #cbd8ee;\n",
       "  color: #000000;\n",
       "}\n",
       "#T_97415_row8_col0 {\n",
       "  background-color: #adc9fd;\n",
       "  color: #000000;\n",
       "}\n",
       "#T_97415_row8_col1 {\n",
       "  background-color: #81a4fb;\n",
       "  color: #f1f1f1;\n",
       "}\n",
       "#T_97415_row8_col3 {\n",
       "  background-color: #7093f3;\n",
       "  color: #f1f1f1;\n",
       "}\n",
       "#T_97415_row8_col4 {\n",
       "  background-color: #bed2f6;\n",
       "  color: #000000;\n",
       "}\n",
       "#T_97415_row8_col5 {\n",
       "  background-color: #f5a081;\n",
       "  color: #000000;\n",
       "}\n",
       "#T_97415_row8_col6 {\n",
       "  background-color: #f18f71;\n",
       "  color: #f1f1f1;\n",
       "}\n",
       "#T_97415_row8_col7 {\n",
       "  background-color: #5d7ce6;\n",
       "  color: #f1f1f1;\n",
       "}\n",
       "#T_97415_row8_col11 {\n",
       "  background-color: #f7b396;\n",
       "  color: #000000;\n",
       "}\n",
       "#T_97415_row8_col12 {\n",
       "  background-color: #e6d7cf;\n",
       "  color: #000000;\n",
       "}\n",
       "#T_97415_row9_col0, #T_97415_row12_col5 {\n",
       "  background-color: #f7bca1;\n",
       "  color: #000000;\n",
       "}\n",
       "#T_97415_row9_col1, #T_97415_row12_col4 {\n",
       "  background-color: #e1dad6;\n",
       "  color: #000000;\n",
       "}\n",
       "#T_97415_row9_col3 {\n",
       "  background-color: #a5c3fe;\n",
       "  color: #000000;\n",
       "}\n",
       "#T_97415_row9_col5 {\n",
       "  background-color: #94b6ff;\n",
       "  color: #000000;\n",
       "}\n",
       "#T_97415_row9_col6, #T_97415_row12_col1 {\n",
       "  background-color: #88abfd;\n",
       "  color: #000000;\n",
       "}\n",
       "#T_97415_row9_col10 {\n",
       "  background-color: #4257c9;\n",
       "  color: #f1f1f1;\n",
       "}\n",
       "#T_97415_row9_col11 {\n",
       "  background-color: #4961d2;\n",
       "  color: #f1f1f1;\n",
       "}\n",
       "#T_97415_row9_col12 {\n",
       "  background-color: #e3d9d3;\n",
       "  color: #000000;\n",
       "}\n",
       "#T_97415_row10_col3, #T_97415_row11_col3 {\n",
       "  background-color: #5e7de7;\n",
       "  color: #f1f1f1;\n",
       "}\n",
       "#T_97415_row10_col5 {\n",
       "  background-color: #f3c8b2;\n",
       "  color: #000000;\n",
       "}\n",
       "#T_97415_row10_col6 {\n",
       "  background-color: #f7aa8c;\n",
       "  color: #000000;\n",
       "}\n",
       "#T_97415_row10_col11 {\n",
       "  background-color: #f7a889;\n",
       "  color: #000000;\n",
       "}\n",
       "#T_97415_row11_col0 {\n",
       "  background-color: #9bbcff;\n",
       "  color: #000000;\n",
       "}\n",
       "#T_97415_row11_col2 {\n",
       "  background-color: #506bda;\n",
       "  color: #f1f1f1;\n",
       "}\n",
       "#T_97415_row11_col4 {\n",
       "  background-color: #8fb1fe;\n",
       "  color: #000000;\n",
       "}\n",
       "#T_97415_row11_col5 {\n",
       "  background-color: #ee8669;\n",
       "  color: #f1f1f1;\n",
       "}\n",
       "#T_97415_row11_col6 {\n",
       "  background-color: #e16751;\n",
       "  color: #f1f1f1;\n",
       "}\n",
       "#T_97415_row11_col7 {\n",
       "  background-color: #4055c8;\n",
       "  color: #f1f1f1;\n",
       "}\n",
       "#T_97415_row11_col8 {\n",
       "  background-color: #f6bea4;\n",
       "  color: #000000;\n",
       "}\n",
       "#T_97415_row11_col10 {\n",
       "  background-color: #f6a586;\n",
       "  color: #000000;\n",
       "}\n",
       "#T_97415_row11_col12 {\n",
       "  background-color: #e2dad5;\n",
       "  color: #000000;\n",
       "}\n",
       "#T_97415_row12_col0 {\n",
       "  background-color: #f6a283;\n",
       "  color: #000000;\n",
       "}\n",
       "#T_97415_row12_col2 {\n",
       "  background-color: #97b8ff;\n",
       "  color: #000000;\n",
       "}\n",
       "#T_97415_row12_col6 {\n",
       "  background-color: #f7b79b;\n",
       "  color: #000000;\n",
       "}\n",
       "</style>\n",
       "<table id=\"T_97415\">\n",
       "  <thead>\n",
       "    <tr>\n",
       "      <th class=\"blank level0\" >&nbsp;</th>\n",
       "      <th id=\"T_97415_level0_col0\" class=\"col_heading level0 col0\" >Alcohol</th>\n",
       "      <th id=\"T_97415_level0_col1\" class=\"col_heading level0 col1\" >Malic</th>\n",
       "      <th id=\"T_97415_level0_col2\" class=\"col_heading level0 col2\" >Ash</th>\n",
       "      <th id=\"T_97415_level0_col3\" class=\"col_heading level0 col3\" >Alcalinity</th>\n",
       "      <th id=\"T_97415_level0_col4\" class=\"col_heading level0 col4\" >Magnesium</th>\n",
       "      <th id=\"T_97415_level0_col5\" class=\"col_heading level0 col5\" >Phenols</th>\n",
       "      <th id=\"T_97415_level0_col6\" class=\"col_heading level0 col6\" >Flavanoids</th>\n",
       "      <th id=\"T_97415_level0_col7\" class=\"col_heading level0 col7\" >Nonflavanoids</th>\n",
       "      <th id=\"T_97415_level0_col8\" class=\"col_heading level0 col8\" >Proanthocyanins</th>\n",
       "      <th id=\"T_97415_level0_col9\" class=\"col_heading level0 col9\" >Color</th>\n",
       "      <th id=\"T_97415_level0_col10\" class=\"col_heading level0 col10\" >Hue</th>\n",
       "      <th id=\"T_97415_level0_col11\" class=\"col_heading level0 col11\" >Dilution</th>\n",
       "      <th id=\"T_97415_level0_col12\" class=\"col_heading level0 col12\" >Proline</th>\n",
       "    </tr>\n",
       "  </thead>\n",
       "  <tbody>\n",
       "    <tr>\n",
       "      <th id=\"T_97415_level0_row0\" class=\"row_heading level0 row0\" >Alcohol</th>\n",
       "      <td id=\"T_97415_row0_col0\" class=\"data row0 col0\" >1.000000</td>\n",
       "      <td id=\"T_97415_row0_col1\" class=\"data row0 col1\" >0.094397</td>\n",
       "      <td id=\"T_97415_row0_col2\" class=\"data row0 col2\" >0.211545</td>\n",
       "      <td id=\"T_97415_row0_col3\" class=\"data row0 col3\" >-0.310235</td>\n",
       "      <td id=\"T_97415_row0_col4\" class=\"data row0 col4\" >0.270798</td>\n",
       "      <td id=\"T_97415_row0_col5\" class=\"data row0 col5\" >0.289101</td>\n",
       "      <td id=\"T_97415_row0_col6\" class=\"data row0 col6\" >0.236815</td>\n",
       "      <td id=\"T_97415_row0_col7\" class=\"data row0 col7\" >-0.155929</td>\n",
       "      <td id=\"T_97415_row0_col8\" class=\"data row0 col8\" >0.136698</td>\n",
       "      <td id=\"T_97415_row0_col9\" class=\"data row0 col9\" >0.546364</td>\n",
       "      <td id=\"T_97415_row0_col10\" class=\"data row0 col10\" >-0.071747</td>\n",
       "      <td id=\"T_97415_row0_col11\" class=\"data row0 col11\" >0.072343</td>\n",
       "      <td id=\"T_97415_row0_col12\" class=\"data row0 col12\" >0.643720</td>\n",
       "    </tr>\n",
       "    <tr>\n",
       "      <th id=\"T_97415_level0_row1\" class=\"row_heading level0 row1\" >Malic</th>\n",
       "      <td id=\"T_97415_row1_col0\" class=\"data row1 col0\" >0.094397</td>\n",
       "      <td id=\"T_97415_row1_col1\" class=\"data row1 col1\" >1.000000</td>\n",
       "      <td id=\"T_97415_row1_col2\" class=\"data row1 col2\" >0.164045</td>\n",
       "      <td id=\"T_97415_row1_col3\" class=\"data row1 col3\" >0.288500</td>\n",
       "      <td id=\"T_97415_row1_col4\" class=\"data row1 col4\" >-0.054575</td>\n",
       "      <td id=\"T_97415_row1_col5\" class=\"data row1 col5\" >-0.335167</td>\n",
       "      <td id=\"T_97415_row1_col6\" class=\"data row1 col6\" >-0.411007</td>\n",
       "      <td id=\"T_97415_row1_col7\" class=\"data row1 col7\" >0.292977</td>\n",
       "      <td id=\"T_97415_row1_col8\" class=\"data row1 col8\" >-0.220746</td>\n",
       "      <td id=\"T_97415_row1_col9\" class=\"data row1 col9\" >0.248985</td>\n",
       "      <td id=\"T_97415_row1_col10\" class=\"data row1 col10\" >-0.561296</td>\n",
       "      <td id=\"T_97415_row1_col11\" class=\"data row1 col11\" >-0.368710</td>\n",
       "      <td id=\"T_97415_row1_col12\" class=\"data row1 col12\" >-0.192011</td>\n",
       "    </tr>\n",
       "    <tr>\n",
       "      <th id=\"T_97415_level0_row2\" class=\"row_heading level0 row2\" >Ash</th>\n",
       "      <td id=\"T_97415_row2_col0\" class=\"data row2 col0\" >0.211545</td>\n",
       "      <td id=\"T_97415_row2_col1\" class=\"data row2 col1\" >0.164045</td>\n",
       "      <td id=\"T_97415_row2_col2\" class=\"data row2 col2\" >1.000000</td>\n",
       "      <td id=\"T_97415_row2_col3\" class=\"data row2 col3\" >0.443367</td>\n",
       "      <td id=\"T_97415_row2_col4\" class=\"data row2 col4\" >0.286587</td>\n",
       "      <td id=\"T_97415_row2_col5\" class=\"data row2 col5\" >0.128980</td>\n",
       "      <td id=\"T_97415_row2_col6\" class=\"data row2 col6\" >0.115077</td>\n",
       "      <td id=\"T_97415_row2_col7\" class=\"data row2 col7\" >0.186230</td>\n",
       "      <td id=\"T_97415_row2_col8\" class=\"data row2 col8\" >0.009652</td>\n",
       "      <td id=\"T_97415_row2_col9\" class=\"data row2 col9\" >0.258887</td>\n",
       "      <td id=\"T_97415_row2_col10\" class=\"data row2 col10\" >-0.074667</td>\n",
       "      <td id=\"T_97415_row2_col11\" class=\"data row2 col11\" >0.003911</td>\n",
       "      <td id=\"T_97415_row2_col12\" class=\"data row2 col12\" >0.223626</td>\n",
       "    </tr>\n",
       "    <tr>\n",
       "      <th id=\"T_97415_level0_row3\" class=\"row_heading level0 row3\" >Alcalinity</th>\n",
       "      <td id=\"T_97415_row3_col0\" class=\"data row3 col0\" >-0.310235</td>\n",
       "      <td id=\"T_97415_row3_col1\" class=\"data row3 col1\" >0.288500</td>\n",
       "      <td id=\"T_97415_row3_col2\" class=\"data row3 col2\" >0.443367</td>\n",
       "      <td id=\"T_97415_row3_col3\" class=\"data row3 col3\" >1.000000</td>\n",
       "      <td id=\"T_97415_row3_col4\" class=\"data row3 col4\" >-0.083333</td>\n",
       "      <td id=\"T_97415_row3_col5\" class=\"data row3 col5\" >-0.321113</td>\n",
       "      <td id=\"T_97415_row3_col6\" class=\"data row3 col6\" >-0.351370</td>\n",
       "      <td id=\"T_97415_row3_col7\" class=\"data row3 col7\" >0.361922</td>\n",
       "      <td id=\"T_97415_row3_col8\" class=\"data row3 col8\" >-0.197327</td>\n",
       "      <td id=\"T_97415_row3_col9\" class=\"data row3 col9\" >0.018732</td>\n",
       "      <td id=\"T_97415_row3_col10\" class=\"data row3 col10\" >-0.273955</td>\n",
       "      <td id=\"T_97415_row3_col11\" class=\"data row3 col11\" >-0.276769</td>\n",
       "      <td id=\"T_97415_row3_col12\" class=\"data row3 col12\" >-0.440597</td>\n",
       "    </tr>\n",
       "    <tr>\n",
       "      <th id=\"T_97415_level0_row4\" class=\"row_heading level0 row4\" >Magnesium</th>\n",
       "      <td id=\"T_97415_row4_col0\" class=\"data row4 col0\" >0.270798</td>\n",
       "      <td id=\"T_97415_row4_col1\" class=\"data row4 col1\" >-0.054575</td>\n",
       "      <td id=\"T_97415_row4_col2\" class=\"data row4 col2\" >0.286587</td>\n",
       "      <td id=\"T_97415_row4_col3\" class=\"data row4 col3\" >-0.083333</td>\n",
       "      <td id=\"T_97415_row4_col4\" class=\"data row4 col4\" >1.000000</td>\n",
       "      <td id=\"T_97415_row4_col5\" class=\"data row4 col5\" >0.214401</td>\n",
       "      <td id=\"T_97415_row4_col6\" class=\"data row4 col6\" >0.195784</td>\n",
       "      <td id=\"T_97415_row4_col7\" class=\"data row4 col7\" >-0.256294</td>\n",
       "      <td id=\"T_97415_row4_col8\" class=\"data row4 col8\" >0.236441</td>\n",
       "      <td id=\"T_97415_row4_col9\" class=\"data row4 col9\" >0.199950</td>\n",
       "      <td id=\"T_97415_row4_col10\" class=\"data row4 col10\" >0.055398</td>\n",
       "      <td id=\"T_97415_row4_col11\" class=\"data row4 col11\" >0.066004</td>\n",
       "      <td id=\"T_97415_row4_col12\" class=\"data row4 col12\" >0.393351</td>\n",
       "    </tr>\n",
       "    <tr>\n",
       "      <th id=\"T_97415_level0_row5\" class=\"row_heading level0 row5\" >Phenols</th>\n",
       "      <td id=\"T_97415_row5_col0\" class=\"data row5 col0\" >0.289101</td>\n",
       "      <td id=\"T_97415_row5_col1\" class=\"data row5 col1\" >-0.335167</td>\n",
       "      <td id=\"T_97415_row5_col2\" class=\"data row5 col2\" >0.128980</td>\n",
       "      <td id=\"T_97415_row5_col3\" class=\"data row5 col3\" >-0.321113</td>\n",
       "      <td id=\"T_97415_row5_col4\" class=\"data row5 col4\" >0.214401</td>\n",
       "      <td id=\"T_97415_row5_col5\" class=\"data row5 col5\" >1.000000</td>\n",
       "      <td id=\"T_97415_row5_col6\" class=\"data row5 col6\" >0.864564</td>\n",
       "      <td id=\"T_97415_row5_col7\" class=\"data row5 col7\" >-0.449935</td>\n",
       "      <td id=\"T_97415_row5_col8\" class=\"data row5 col8\" >0.612413</td>\n",
       "      <td id=\"T_97415_row5_col9\" class=\"data row5 col9\" >-0.055136</td>\n",
       "      <td id=\"T_97415_row5_col10\" class=\"data row5 col10\" >0.433681</td>\n",
       "      <td id=\"T_97415_row5_col11\" class=\"data row5 col11\" >0.699949</td>\n",
       "      <td id=\"T_97415_row5_col12\" class=\"data row5 col12\" >0.498115</td>\n",
       "    </tr>\n",
       "    <tr>\n",
       "      <th id=\"T_97415_level0_row6\" class=\"row_heading level0 row6\" >Flavanoids</th>\n",
       "      <td id=\"T_97415_row6_col0\" class=\"data row6 col0\" >0.236815</td>\n",
       "      <td id=\"T_97415_row6_col1\" class=\"data row6 col1\" >-0.411007</td>\n",
       "      <td id=\"T_97415_row6_col2\" class=\"data row6 col2\" >0.115077</td>\n",
       "      <td id=\"T_97415_row6_col3\" class=\"data row6 col3\" >-0.351370</td>\n",
       "      <td id=\"T_97415_row6_col4\" class=\"data row6 col4\" >0.195784</td>\n",
       "      <td id=\"T_97415_row6_col5\" class=\"data row6 col5\" >0.864564</td>\n",
       "      <td id=\"T_97415_row6_col6\" class=\"data row6 col6\" >1.000000</td>\n",
       "      <td id=\"T_97415_row6_col7\" class=\"data row6 col7\" >-0.537900</td>\n",
       "      <td id=\"T_97415_row6_col8\" class=\"data row6 col8\" >0.652692</td>\n",
       "      <td id=\"T_97415_row6_col9\" class=\"data row6 col9\" >-0.172379</td>\n",
       "      <td id=\"T_97415_row6_col10\" class=\"data row6 col10\" >0.543479</td>\n",
       "      <td id=\"T_97415_row6_col11\" class=\"data row6 col11\" >0.787194</td>\n",
       "      <td id=\"T_97415_row6_col12\" class=\"data row6 col12\" >0.494193</td>\n",
       "    </tr>\n",
       "    <tr>\n",
       "      <th id=\"T_97415_level0_row7\" class=\"row_heading level0 row7\" >Nonflavanoids</th>\n",
       "      <td id=\"T_97415_row7_col0\" class=\"data row7 col0\" >-0.155929</td>\n",
       "      <td id=\"T_97415_row7_col1\" class=\"data row7 col1\" >0.292977</td>\n",
       "      <td id=\"T_97415_row7_col2\" class=\"data row7 col2\" >0.186230</td>\n",
       "      <td id=\"T_97415_row7_col3\" class=\"data row7 col3\" >0.361922</td>\n",
       "      <td id=\"T_97415_row7_col4\" class=\"data row7 col4\" >-0.256294</td>\n",
       "      <td id=\"T_97415_row7_col5\" class=\"data row7 col5\" >-0.449935</td>\n",
       "      <td id=\"T_97415_row7_col6\" class=\"data row7 col6\" >-0.537900</td>\n",
       "      <td id=\"T_97415_row7_col7\" class=\"data row7 col7\" >1.000000</td>\n",
       "      <td id=\"T_97415_row7_col8\" class=\"data row7 col8\" >-0.365845</td>\n",
       "      <td id=\"T_97415_row7_col9\" class=\"data row7 col9\" >0.139057</td>\n",
       "      <td id=\"T_97415_row7_col10\" class=\"data row7 col10\" >-0.262640</td>\n",
       "      <td id=\"T_97415_row7_col11\" class=\"data row7 col11\" >-0.503270</td>\n",
       "      <td id=\"T_97415_row7_col12\" class=\"data row7 col12\" >-0.311385</td>\n",
       "    </tr>\n",
       "    <tr>\n",
       "      <th id=\"T_97415_level0_row8\" class=\"row_heading level0 row8\" >Proanthocyanins</th>\n",
       "      <td id=\"T_97415_row8_col0\" class=\"data row8 col0\" >0.136698</td>\n",
       "      <td id=\"T_97415_row8_col1\" class=\"data row8 col1\" >-0.220746</td>\n",
       "      <td id=\"T_97415_row8_col2\" class=\"data row8 col2\" >0.009652</td>\n",
       "      <td id=\"T_97415_row8_col3\" class=\"data row8 col3\" >-0.197327</td>\n",
       "      <td id=\"T_97415_row8_col4\" class=\"data row8 col4\" >0.236441</td>\n",
       "      <td id=\"T_97415_row8_col5\" class=\"data row8 col5\" >0.612413</td>\n",
       "      <td id=\"T_97415_row8_col6\" class=\"data row8 col6\" >0.652692</td>\n",
       "      <td id=\"T_97415_row8_col7\" class=\"data row8 col7\" >-0.365845</td>\n",
       "      <td id=\"T_97415_row8_col8\" class=\"data row8 col8\" >1.000000</td>\n",
       "      <td id=\"T_97415_row8_col9\" class=\"data row8 col9\" >-0.025250</td>\n",
       "      <td id=\"T_97415_row8_col10\" class=\"data row8 col10\" >0.295544</td>\n",
       "      <td id=\"T_97415_row8_col11\" class=\"data row8 col11\" >0.519067</td>\n",
       "      <td id=\"T_97415_row8_col12\" class=\"data row8 col12\" >0.330417</td>\n",
       "    </tr>\n",
       "    <tr>\n",
       "      <th id=\"T_97415_level0_row9\" class=\"row_heading level0 row9\" >Color</th>\n",
       "      <td id=\"T_97415_row9_col0\" class=\"data row9 col0\" >0.546364</td>\n",
       "      <td id=\"T_97415_row9_col1\" class=\"data row9 col1\" >0.248985</td>\n",
       "      <td id=\"T_97415_row9_col2\" class=\"data row9 col2\" >0.258887</td>\n",
       "      <td id=\"T_97415_row9_col3\" class=\"data row9 col3\" >0.018732</td>\n",
       "      <td id=\"T_97415_row9_col4\" class=\"data row9 col4\" >0.199950</td>\n",
       "      <td id=\"T_97415_row9_col5\" class=\"data row9 col5\" >-0.055136</td>\n",
       "      <td id=\"T_97415_row9_col6\" class=\"data row9 col6\" >-0.172379</td>\n",
       "      <td id=\"T_97415_row9_col7\" class=\"data row9 col7\" >0.139057</td>\n",
       "      <td id=\"T_97415_row9_col8\" class=\"data row9 col8\" >-0.025250</td>\n",
       "      <td id=\"T_97415_row9_col9\" class=\"data row9 col9\" >1.000000</td>\n",
       "      <td id=\"T_97415_row9_col10\" class=\"data row9 col10\" >-0.521813</td>\n",
       "      <td id=\"T_97415_row9_col11\" class=\"data row9 col11\" >-0.428815</td>\n",
       "      <td id=\"T_97415_row9_col12\" class=\"data row9 col12\" >0.316100</td>\n",
       "    </tr>\n",
       "    <tr>\n",
       "      <th id=\"T_97415_level0_row10\" class=\"row_heading level0 row10\" >Hue</th>\n",
       "      <td id=\"T_97415_row10_col0\" class=\"data row10 col0\" >-0.071747</td>\n",
       "      <td id=\"T_97415_row10_col1\" class=\"data row10 col1\" >-0.561296</td>\n",
       "      <td id=\"T_97415_row10_col2\" class=\"data row10 col2\" >-0.074667</td>\n",
       "      <td id=\"T_97415_row10_col3\" class=\"data row10 col3\" >-0.273955</td>\n",
       "      <td id=\"T_97415_row10_col4\" class=\"data row10 col4\" >0.055398</td>\n",
       "      <td id=\"T_97415_row10_col5\" class=\"data row10 col5\" >0.433681</td>\n",
       "      <td id=\"T_97415_row10_col6\" class=\"data row10 col6\" >0.543479</td>\n",
       "      <td id=\"T_97415_row10_col7\" class=\"data row10 col7\" >-0.262640</td>\n",
       "      <td id=\"T_97415_row10_col8\" class=\"data row10 col8\" >0.295544</td>\n",
       "      <td id=\"T_97415_row10_col9\" class=\"data row10 col9\" >-0.521813</td>\n",
       "      <td id=\"T_97415_row10_col10\" class=\"data row10 col10\" >1.000000</td>\n",
       "      <td id=\"T_97415_row10_col11\" class=\"data row10 col11\" >0.565468</td>\n",
       "      <td id=\"T_97415_row10_col12\" class=\"data row10 col12\" >0.236183</td>\n",
       "    </tr>\n",
       "    <tr>\n",
       "      <th id=\"T_97415_level0_row11\" class=\"row_heading level0 row11\" >Dilution</th>\n",
       "      <td id=\"T_97415_row11_col0\" class=\"data row11 col0\" >0.072343</td>\n",
       "      <td id=\"T_97415_row11_col1\" class=\"data row11 col1\" >-0.368710</td>\n",
       "      <td id=\"T_97415_row11_col2\" class=\"data row11 col2\" >0.003911</td>\n",
       "      <td id=\"T_97415_row11_col3\" class=\"data row11 col3\" >-0.276769</td>\n",
       "      <td id=\"T_97415_row11_col4\" class=\"data row11 col4\" >0.066004</td>\n",
       "      <td id=\"T_97415_row11_col5\" class=\"data row11 col5\" >0.699949</td>\n",
       "      <td id=\"T_97415_row11_col6\" class=\"data row11 col6\" >0.787194</td>\n",
       "      <td id=\"T_97415_row11_col7\" class=\"data row11 col7\" >-0.503270</td>\n",
       "      <td id=\"T_97415_row11_col8\" class=\"data row11 col8\" >0.519067</td>\n",
       "      <td id=\"T_97415_row11_col9\" class=\"data row11 col9\" >-0.428815</td>\n",
       "      <td id=\"T_97415_row11_col10\" class=\"data row11 col10\" >0.565468</td>\n",
       "      <td id=\"T_97415_row11_col11\" class=\"data row11 col11\" >1.000000</td>\n",
       "      <td id=\"T_97415_row11_col12\" class=\"data row11 col12\" >0.312761</td>\n",
       "    </tr>\n",
       "    <tr>\n",
       "      <th id=\"T_97415_level0_row12\" class=\"row_heading level0 row12\" >Proline</th>\n",
       "      <td id=\"T_97415_row12_col0\" class=\"data row12 col0\" >0.643720</td>\n",
       "      <td id=\"T_97415_row12_col1\" class=\"data row12 col1\" >-0.192011</td>\n",
       "      <td id=\"T_97415_row12_col2\" class=\"data row12 col2\" >0.223626</td>\n",
       "      <td id=\"T_97415_row12_col3\" class=\"data row12 col3\" >-0.440597</td>\n",
       "      <td id=\"T_97415_row12_col4\" class=\"data row12 col4\" >0.393351</td>\n",
       "      <td id=\"T_97415_row12_col5\" class=\"data row12 col5\" >0.498115</td>\n",
       "      <td id=\"T_97415_row12_col6\" class=\"data row12 col6\" >0.494193</td>\n",
       "      <td id=\"T_97415_row12_col7\" class=\"data row12 col7\" >-0.311385</td>\n",
       "      <td id=\"T_97415_row12_col8\" class=\"data row12 col8\" >0.330417</td>\n",
       "      <td id=\"T_97415_row12_col9\" class=\"data row12 col9\" >0.316100</td>\n",
       "      <td id=\"T_97415_row12_col10\" class=\"data row12 col10\" >0.236183</td>\n",
       "      <td id=\"T_97415_row12_col11\" class=\"data row12 col11\" >0.312761</td>\n",
       "      <td id=\"T_97415_row12_col12\" class=\"data row12 col12\" >1.000000</td>\n",
       "    </tr>\n",
       "  </tbody>\n",
       "</table>\n"
      ],
      "text/plain": [
       "<pandas.io.formats.style.Styler at 0x2098ef93550>"
      ]
     },
     "execution_count": 8,
     "metadata": {},
     "output_type": "execute_result"
    }
   ],
   "source": [
    "cor.style.background_gradient(cmap='coolwarm')"
   ]
  },
  {
   "cell_type": "code",
   "execution_count": 9,
   "id": "343e2c3f",
   "metadata": {
    "ExecuteTime": {
     "end_time": "2022-11-14T05:40:23.722493Z",
     "start_time": "2022-11-14T05:40:23.699728Z"
    }
   },
   "outputs": [],
   "source": [
    "# Normalising the data\n",
    "df_norm = StandardScaler().fit_transform(hd)"
   ]
  },
  {
   "cell_type": "code",
   "execution_count": 10,
   "id": "a7b19036",
   "metadata": {
    "ExecuteTime": {
     "end_time": "2022-11-14T05:41:10.437361Z",
     "start_time": "2022-11-14T05:41:10.429540Z"
    }
   },
   "outputs": [],
   "source": [
    "# reduction using PCA\n",
    "pca = PCA(n_components=13)"
   ]
  },
  {
   "cell_type": "code",
   "execution_count": 11,
   "id": "fa6c2431",
   "metadata": {
    "ExecuteTime": {
     "end_time": "2022-11-14T05:41:27.982424Z",
     "start_time": "2022-11-14T05:41:27.939193Z"
    }
   },
   "outputs": [],
   "source": [
    "principalComponents = pca.fit_transform(df_norm)"
   ]
  },
  {
   "cell_type": "code",
   "execution_count": 12,
   "id": "82962739",
   "metadata": {
    "ExecuteTime": {
     "end_time": "2022-11-14T05:42:13.301213Z",
     "start_time": "2022-11-14T05:42:12.640688Z"
    }
   },
   "outputs": [
    {
     "data": {
      "text/plain": [
       "([<matplotlib.axis.XTick at 0x2098f485190>,\n",
       "  <matplotlib.axis.XTick at 0x2098f485160>,\n",
       "  <matplotlib.axis.XTick at 0x2098f452be0>,\n",
       "  <matplotlib.axis.XTick at 0x2098f485be0>,\n",
       "  <matplotlib.axis.XTick at 0x2098f4735b0>,\n",
       "  <matplotlib.axis.XTick at 0x2098ef9de20>,\n",
       "  <matplotlib.axis.XTick at 0x2098ef9abb0>,\n",
       "  <matplotlib.axis.XTick at 0x2098d9041c0>,\n",
       "  <matplotlib.axis.XTick at 0x2098ac9a6d0>,\n",
       "  <matplotlib.axis.XTick at 0x2098d88bd60>,\n",
       "  <matplotlib.axis.XTick at 0x2098b1027c0>,\n",
       "  <matplotlib.axis.XTick at 0x2098ef97940>,\n",
       "  <matplotlib.axis.XTick at 0x2098be17460>],\n",
       " [Text(0, 0, ''),\n",
       "  Text(0, 0, ''),\n",
       "  Text(0, 0, ''),\n",
       "  Text(0, 0, ''),\n",
       "  Text(0, 0, ''),\n",
       "  Text(0, 0, ''),\n",
       "  Text(0, 0, ''),\n",
       "  Text(0, 0, ''),\n",
       "  Text(0, 0, ''),\n",
       "  Text(0, 0, ''),\n",
       "  Text(0, 0, ''),\n",
       "  Text(0, 0, ''),\n",
       "  Text(0, 0, '')])"
      ]
     },
     "execution_count": 12,
     "metadata": {},
     "output_type": "execute_result"
    },
    {
     "data": {
      "image/png": "[encoded data removed]",
      "text/plain": [
       "<Figure size 432x288 with 1 Axes>"
      ]
     },
     "metadata": {
      "needs_background": "light"
     },
     "output_type": "display_data"
    }
   ],
   "source": [
    "PC = range(1, pca.n_components_+1)\n",
    "plt.bar(PC, pca.explained_variance_ratio_, color='green')\n",
    "plt.xlabel('Principal Components')\n",
    "plt.ylabel('Variance %')\n",
    "plt.xticks(PC)"
   ]
  },
  {
   "cell_type": "code",
   "execution_count": 13,
   "id": "61264ff9",
   "metadata": {
    "ExecuteTime": {
     "end_time": "2022-11-14T05:42:43.186774Z",
     "start_time": "2022-11-14T05:42:43.169408Z"
    }
   },
   "outputs": [],
   "source": [
    "PCA_components = pd.DataFrame(principalComponents)"
   ]
  },
  {
   "cell_type": "code",
   "execution_count": 21,
   "id": "d1149b97",
   "metadata": {
    "ExecuteTime": {
     "end_time": "2022-11-14T05:45:14.491695Z",
     "start_time": "2022-11-14T05:45:14.359202Z"
    }
   },
   "outputs": [
    {
     "data": {
      "image/png": "[encoded data removed]",
      "text/plain": [
       "<Figure size 432x288 with 1 Axes>"
      ]
     },
     "metadata": {
      "needs_background": "light"
     },
     "output_type": "display_data"
    }
   ],
   "source": [
    "plt.scatter(PCA_components[0], PCA_components[1], alpha=.3, color='brown')\n",
    "plt.xlabel('PCA 1')\n",
    "plt.ylabel('PCA 2')\n",
    "plt.show()"
   ]
  },
  {
   "cell_type": "code",
   "execution_count": 22,
   "id": "82165d40",
   "metadata": {
    "ExecuteTime": {
     "end_time": "2022-11-14T05:45:46.337687Z",
     "start_time": "2022-11-14T05:45:46.324370Z"
    }
   },
   "outputs": [],
   "source": [
    "wcss = []"
   ]
  },
  {
   "cell_type": "code",
   "execution_count": 23,
   "id": "710934c9",
   "metadata": {
    "ExecuteTime": {
     "end_time": "2022-11-14T05:46:09.626847Z",
     "start_time": "2022-11-14T05:46:08.294167Z"
    }
   },
   "outputs": [
    {
     "name": "stderr",
     "output_type": "stream",
     "text": [
      "C:\\Users\\Vishnu\\.conda\\lib\\site-packages\\sklearn\\cluster\\_kmeans.py:1036: UserWarning: KMeans is known to have a memory leak on Windows with MKL, when there are less chunks than available threads. You can avoid it by setting the environment variable OMP_NUM_THREADS=1.\n",
      "  warnings.warn(\n"
     ]
    }
   ],
   "source": [
    "for i in range(1, 15):\n",
    "    kmeans = KMeans(n_clusters = i, init = 'k-means++', random_state = 42)\n",
    "    kmeans.fit(PCA_components.iloc[:,:3])\n",
    "    wcss.append(kmeans.inertia_)"
   ]
  },
  {
   "cell_type": "code",
   "execution_count": 24,
   "id": "0bc505a1",
   "metadata": {
    "ExecuteTime": {
     "end_time": "2022-11-14T05:46:31.094020Z",
     "start_time": "2022-11-14T05:46:30.942870Z"
    }
   },
   "outputs": [
    {
     "data": {
      "image/png": "[encoded data removed]",
      "text/plain": [
       "<Figure size 432x288 with 1 Axes>"
      ]
     },
     "metadata": {
      "needs_background": "light"
     },
     "output_type": "display_data"
    }
   ],
   "source": [
    "plt.plot(range(1, 15), wcss)\n",
    "plt.title('The Elbow Method')\n",
    "plt.xlabel('Number of clusters')\n",
    "plt.ylabel('WCSS')\n",
    "plt.show()"
   ]
  },
  {
   "cell_type": "code",
   "execution_count": 25,
   "id": "56a454b2",
   "metadata": {
    "ExecuteTime": {
     "end_time": "2022-11-14T05:47:17.070044Z",
     "start_time": "2022-11-14T05:47:16.993836Z"
    }
   },
   "outputs": [
    {
     "data": {
      "text/plain": [
       "KMeans(n_clusters=3)"
      ]
     },
     "execution_count": 25,
     "metadata": {},
     "output_type": "execute_result"
    }
   ],
   "source": [
    "# K means clusturing\n",
    "model = KMeans(n_clusters=3)\n",
    "model.fit(PCA_components.iloc[:,:2])"
   ]
  },
  {
   "cell_type": "code",
   "execution_count": 26,
   "id": "6c7603d1",
   "metadata": {
    "ExecuteTime": {
     "end_time": "2022-11-14T05:48:38.788726Z",
     "start_time": "2022-11-14T05:48:38.738825Z"
    }
   },
   "outputs": [],
   "source": [
    "labels = model.predict(PCA_components.iloc[:,:2])"
   ]
  },
  {
   "cell_type": "code",
   "execution_count": 27,
   "id": "fd6641ce",
   "metadata": {
    "ExecuteTime": {
     "end_time": "2022-11-14T05:48:55.284031Z",
     "start_time": "2022-11-14T05:48:55.152508Z"
    }
   },
   "outputs": [
    {
     "data": {
      "image/png": "[encoded data removed]",
      "text/plain": [
       "<Figure size 432x288 with 1 Axes>"
      ]
     },
     "metadata": {
      "needs_background": "light"
     },
     "output_type": "display_data"
    }
   ],
   "source": [
    "plt.scatter(PCA_components[0], PCA_components[1], c=labels)\n",
    "plt.show()"
   ]
  },
  {
   "cell_type": "code",
   "execution_count": 28,
   "id": "e794258f",
   "metadata": {
    "ExecuteTime": {
     "end_time": "2022-11-14T05:49:20.253574Z",
     "start_time": "2022-11-14T05:49:20.244365Z"
    }
   },
   "outputs": [],
   "source": [
    "k_new_df=pd.DataFrame(principalComponents[:,0:2])"
   ]
  },
  {
   "cell_type": "code",
   "execution_count": 29,
   "id": "ac2c4fda",
   "metadata": {
    "ExecuteTime": {
     "end_time": "2022-11-14T05:49:37.613002Z",
     "start_time": "2022-11-14T05:49:37.558270Z"
    }
   },
   "outputs": [
    {
     "data": {
      "text/plain": [
       "KMeans(n_clusters=3)"
      ]
     },
     "execution_count": 29,
     "metadata": {},
     "output_type": "execute_result"
    }
   ],
   "source": [
    "model_k = KMeans(n_clusters=3)\n",
    "model_k.fit(k_new_df)"
   ]
  },
  {
   "cell_type": "code",
   "execution_count": 30,
   "id": "4b3432d5",
   "metadata": {
    "ExecuteTime": {
     "end_time": "2022-11-14T05:49:57.565878Z",
     "start_time": "2022-11-14T05:49:57.558370Z"
    }
   },
   "outputs": [
    {
     "data": {
      "text/plain": [
       "array([2, 2, 2, 2, 2, 2, 2, 2, 2, 2, 2, 2, 2, 2, 2, 2, 2, 2, 2, 2, 2, 2,\n",
       "       2, 2, 2, 2, 2, 2, 2, 2, 2, 2, 2, 2, 2, 2, 2, 2, 2, 2, 2, 2, 2, 2,\n",
       "       2, 2, 2, 2, 2, 2, 2, 2, 2, 2, 2, 2, 2, 2, 2, 1, 1, 1, 1, 1, 1, 1,\n",
       "       1, 1, 1, 1, 1, 2, 1, 2, 1, 1, 1, 1, 1, 1, 1, 1, 1, 0, 1, 1, 1, 1,\n",
       "       1, 1, 1, 1, 1, 1, 1, 2, 1, 1, 2, 1, 1, 1, 1, 1, 1, 1, 1, 1, 1, 1,\n",
       "       1, 1, 1, 1, 1, 1, 1, 1, 1, 1, 1, 2, 1, 1, 1, 1, 1, 1, 1, 1, 0, 0,\n",
       "       0, 0, 0, 0, 0, 0, 0, 0, 0, 0, 0, 0, 0, 0, 0, 0, 0, 0, 0, 0, 0, 0,\n",
       "       0, 0, 0, 0, 0, 0, 0, 0, 0, 0, 0, 0, 0, 0, 0, 0, 0, 0, 0, 0, 0, 0,\n",
       "       0, 0])"
      ]
     },
     "execution_count": 30,
     "metadata": {},
     "output_type": "execute_result"
    }
   ],
   "source": [
    "model_k.labels_"
   ]
  },
  {
   "cell_type": "code",
   "execution_count": 31,
   "id": "cc996034",
   "metadata": {
    "ExecuteTime": {
     "end_time": "2022-11-14T05:50:29.990039Z",
     "start_time": "2022-11-14T05:50:29.976163Z"
    }
   },
   "outputs": [],
   "source": [
    "md=pd.Series(model_k.labels_)"
   ]
  },
  {
   "cell_type": "code",
   "execution_count": 32,
   "id": "ddcad560",
   "metadata": {
    "ExecuteTime": {
     "end_time": "2022-11-14T05:50:53.029576Z",
     "start_time": "2022-11-14T05:50:53.016889Z"
    }
   },
   "outputs": [],
   "source": [
    "hd['clust']=md"
   ]
  },
  {
   "cell_type": "code",
   "execution_count": 33,
   "id": "d42ea3ea",
   "metadata": {
    "ExecuteTime": {
     "end_time": "2022-11-14T05:51:11.110098Z",
     "start_time": "2022-11-14T05:51:11.091366Z"
    }
   },
   "outputs": [
    {
     "data": {
      "text/html": [
       "<div>\n",
       "<style scoped>\n",
       "    .dataframe tbody tr th:only-of-type {\n",
       "        vertical-align: middle;\n",
       "    }\n",
       "\n",
       "    .dataframe tbody tr th {\n",
       "        vertical-align: top;\n",
       "    }\n",
       "\n",
       "    .dataframe thead th {\n",
       "        text-align: right;\n",
       "    }\n",
       "</style>\n",
       "<table border=\"1\" class=\"dataframe\">\n",
       "  <thead>\n",
       "    <tr style=\"text-align: right;\">\n",
       "      <th></th>\n",
       "      <th>0</th>\n",
       "      <th>1</th>\n",
       "    </tr>\n",
       "  </thead>\n",
       "  <tbody>\n",
       "    <tr>\n",
       "      <th>0</th>\n",
       "      <td>3.316751</td>\n",
       "      <td>-1.443463</td>\n",
       "    </tr>\n",
       "    <tr>\n",
       "      <th>1</th>\n",
       "      <td>2.209465</td>\n",
       "      <td>0.333393</td>\n",
       "    </tr>\n",
       "    <tr>\n",
       "      <th>2</th>\n",
       "      <td>2.516740</td>\n",
       "      <td>-1.031151</td>\n",
       "    </tr>\n",
       "    <tr>\n",
       "      <th>3</th>\n",
       "      <td>3.757066</td>\n",
       "      <td>-2.756372</td>\n",
       "    </tr>\n",
       "    <tr>\n",
       "      <th>4</th>\n",
       "      <td>1.008908</td>\n",
       "      <td>-0.869831</td>\n",
       "    </tr>\n",
       "  </tbody>\n",
       "</table>\n",
       "</div>"
      ],
      "text/plain": [
       "          0         1\n",
       "0  3.316751 -1.443463\n",
       "1  2.209465  0.333393\n",
       "2  2.516740 -1.031151\n",
       "3  3.757066 -2.756372\n",
       "4  1.008908 -0.869831"
      ]
     },
     "execution_count": 33,
     "metadata": {},
     "output_type": "execute_result"
    }
   ],
   "source": [
    "k_new_df.head()"
   ]
  },
  {
   "cell_type": "code",
   "execution_count": 34,
   "id": "c1026a33",
   "metadata": {
    "ExecuteTime": {
     "end_time": "2022-11-14T05:51:45.716525Z",
     "start_time": "2022-11-14T05:51:45.691787Z"
    }
   },
   "outputs": [
    {
     "data": {
      "text/html": [
       "<div>\n",
       "<style scoped>\n",
       "    .dataframe tbody tr th:only-of-type {\n",
       "        vertical-align: middle;\n",
       "    }\n",
       "\n",
       "    .dataframe tbody tr th {\n",
       "        vertical-align: top;\n",
       "    }\n",
       "\n",
       "    .dataframe thead th {\n",
       "        text-align: right;\n",
       "    }\n",
       "</style>\n",
       "<table border=\"1\" class=\"dataframe\">\n",
       "  <thead>\n",
       "    <tr style=\"text-align: right;\">\n",
       "      <th></th>\n",
       "      <th>Alcohol</th>\n",
       "      <th>Malic</th>\n",
       "      <th>Ash</th>\n",
       "      <th>Alcalinity</th>\n",
       "      <th>Magnesium</th>\n",
       "      <th>Phenols</th>\n",
       "      <th>Flavanoids</th>\n",
       "      <th>Nonflavanoids</th>\n",
       "      <th>Proanthocyanins</th>\n",
       "      <th>Color</th>\n",
       "      <th>Hue</th>\n",
       "      <th>Dilution</th>\n",
       "      <th>Proline</th>\n",
       "    </tr>\n",
       "    <tr>\n",
       "      <th>clust</th>\n",
       "      <th></th>\n",
       "      <th></th>\n",
       "      <th></th>\n",
       "      <th></th>\n",
       "      <th></th>\n",
       "      <th></th>\n",
       "      <th></th>\n",
       "      <th></th>\n",
       "      <th></th>\n",
       "      <th></th>\n",
       "      <th></th>\n",
       "      <th></th>\n",
       "      <th></th>\n",
       "    </tr>\n",
       "  </thead>\n",
       "  <tbody>\n",
       "    <tr>\n",
       "      <th>0</th>\n",
       "      <td>13.151633</td>\n",
       "      <td>3.344490</td>\n",
       "      <td>2.434694</td>\n",
       "      <td>21.438776</td>\n",
       "      <td>99.020408</td>\n",
       "      <td>1.678163</td>\n",
       "      <td>0.797959</td>\n",
       "      <td>0.450816</td>\n",
       "      <td>1.163061</td>\n",
       "      <td>7.343265</td>\n",
       "      <td>0.685918</td>\n",
       "      <td>1.690204</td>\n",
       "      <td>627.551020</td>\n",
       "    </tr>\n",
       "    <tr>\n",
       "      <th>1</th>\n",
       "      <td>12.238308</td>\n",
       "      <td>1.931385</td>\n",
       "      <td>2.219385</td>\n",
       "      <td>19.898462</td>\n",
       "      <td>92.830769</td>\n",
       "      <td>2.204308</td>\n",
       "      <td>1.989231</td>\n",
       "      <td>0.365538</td>\n",
       "      <td>1.587692</td>\n",
       "      <td>2.992615</td>\n",
       "      <td>1.051631</td>\n",
       "      <td>2.769231</td>\n",
       "      <td>506.353846</td>\n",
       "    </tr>\n",
       "    <tr>\n",
       "      <th>2</th>\n",
       "      <td>13.659219</td>\n",
       "      <td>1.975781</td>\n",
       "      <td>2.463750</td>\n",
       "      <td>17.596875</td>\n",
       "      <td>107.312500</td>\n",
       "      <td>2.859688</td>\n",
       "      <td>3.012656</td>\n",
       "      <td>0.290000</td>\n",
       "      <td>1.921719</td>\n",
       "      <td>5.406250</td>\n",
       "      <td>1.069688</td>\n",
       "      <td>3.157188</td>\n",
       "      <td>1082.562500</td>\n",
       "    </tr>\n",
       "  </tbody>\n",
       "</table>\n",
       "</div>"
      ],
      "text/plain": [
       "         Alcohol     Malic       Ash  Alcalinity   Magnesium   Phenols  \\\n",
       "clust                                                                    \n",
       "0      13.151633  3.344490  2.434694   21.438776   99.020408  1.678163   \n",
       "1      12.238308  1.931385  2.219385   19.898462   92.830769  2.204308   \n",
       "2      13.659219  1.975781  2.463750   17.596875  107.312500  2.859688   \n",
       "\n",
       "       Flavanoids  Nonflavanoids  Proanthocyanins     Color       Hue  \\\n",
       "clust                                                                   \n",
       "0        0.797959       0.450816         1.163061  7.343265  0.685918   \n",
       "1        1.989231       0.365538         1.587692  2.992615  1.051631   \n",
       "2        3.012656       0.290000         1.921719  5.406250  1.069688   \n",
       "\n",
       "       Dilution      Proline  \n",
       "clust                         \n",
       "0      1.690204   627.551020  \n",
       "1      2.769231   506.353846  \n",
       "2      3.157188  1082.562500  "
      ]
     },
     "execution_count": 34,
     "metadata": {},
     "output_type": "execute_result"
    }
   ],
   "source": [
    "hd.groupby(hd.clust).mean()"
   ]
  },
  {
   "cell_type": "code",
   "execution_count": 35,
   "id": "03f30932",
   "metadata": {
    "ExecuteTime": {
     "end_time": "2022-11-14T05:52:44.189854Z",
     "start_time": "2022-11-14T05:52:44.176309Z"
    }
   },
   "outputs": [],
   "source": [
    "## Hirarchial clusturing\n",
    "model2 = AgglomerativeClustering(n_clusters=3, affinity='euclidean', linkage='ward')"
   ]
  },
  {
   "cell_type": "code",
   "execution_count": 36,
   "id": "4d213eee",
   "metadata": {
    "ExecuteTime": {
     "end_time": "2022-11-14T05:53:02.588981Z",
     "start_time": "2022-11-14T05:53:02.572277Z"
    }
   },
   "outputs": [],
   "source": [
    "h_cluster = model2.fit(PCA_components.iloc[:,:2])"
   ]
  },
  {
   "cell_type": "code",
   "execution_count": 37,
   "id": "0507bbce",
   "metadata": {
    "ExecuteTime": {
     "end_time": "2022-11-14T05:53:24.201494Z",
     "start_time": "2022-11-14T05:53:24.197867Z"
    }
   },
   "outputs": [],
   "source": [
    "labels2 = model2.labels_"
   ]
  },
  {
   "cell_type": "code",
   "execution_count": 38,
   "id": "2702789e",
   "metadata": {
    "ExecuteTime": {
     "end_time": "2022-11-14T05:53:44.806600Z",
     "start_time": "2022-11-14T05:53:44.794944Z"
    }
   },
   "outputs": [],
   "source": [
    "X = PCA_components.iloc[:,:1]\n",
    "Y = PCA_components.iloc[:,1:2]"
   ]
  },
  {
   "cell_type": "code",
   "execution_count": 39,
   "id": "aa699ae7",
   "metadata": {
    "ExecuteTime": {
     "end_time": "2022-11-14T05:54:21.136788Z",
     "start_time": "2022-11-14T05:54:20.970510Z"
    }
   },
   "outputs": [
    {
     "data": {
      "text/plain": [
       "<matplotlib.collections.PathCollection at 0x20993dbff10>"
      ]
     },
     "execution_count": 39,
     "metadata": {},
     "output_type": "execute_result"
    },
    {
     "data": {
      "image/png": "[encoded data removed]",
      "text/plain": [
       "<Figure size 864x864 with 1 Axes>"
      ]
     },
     "metadata": {
      "needs_background": "light"
     },
     "output_type": "display_data"
    }
   ],
   "source": [
    "plt.figure(figsize=(12, 12))  \n",
    "plt.scatter(X, Y, c=labels2) "
   ]
  },
  {
   "cell_type": "code",
   "execution_count": 40,
   "id": "0faa4db9",
   "metadata": {
    "ExecuteTime": {
     "end_time": "2022-11-14T05:55:07.526549Z",
     "start_time": "2022-11-14T05:55:07.510103Z"
    }
   },
   "outputs": [],
   "source": [
    "h_new_df=pd.DataFrame(principalComponents[:,0:2])"
   ]
  },
  {
   "cell_type": "code",
   "execution_count": 41,
   "id": "2f947d5e",
   "metadata": {
    "ExecuteTime": {
     "end_time": "2022-11-14T05:55:22.373173Z",
     "start_time": "2022-11-14T05:55:22.350883Z"
    }
   },
   "outputs": [
    {
     "data": {
      "text/html": [
       "<div>\n",
       "<style scoped>\n",
       "    .dataframe tbody tr th:only-of-type {\n",
       "        vertical-align: middle;\n",
       "    }\n",
       "\n",
       "    .dataframe tbody tr th {\n",
       "        vertical-align: top;\n",
       "    }\n",
       "\n",
       "    .dataframe thead th {\n",
       "        text-align: right;\n",
       "    }\n",
       "</style>\n",
       "<table border=\"1\" class=\"dataframe\">\n",
       "  <thead>\n",
       "    <tr style=\"text-align: right;\">\n",
       "      <th></th>\n",
       "      <th>0</th>\n",
       "      <th>1</th>\n",
       "    </tr>\n",
       "  </thead>\n",
       "  <tbody>\n",
       "    <tr>\n",
       "      <th>0</th>\n",
       "      <td>3.316751</td>\n",
       "      <td>-1.443463</td>\n",
       "    </tr>\n",
       "    <tr>\n",
       "      <th>1</th>\n",
       "      <td>2.209465</td>\n",
       "      <td>0.333393</td>\n",
       "    </tr>\n",
       "    <tr>\n",
       "      <th>2</th>\n",
       "      <td>2.516740</td>\n",
       "      <td>-1.031151</td>\n",
       "    </tr>\n",
       "    <tr>\n",
       "      <th>3</th>\n",
       "      <td>3.757066</td>\n",
       "      <td>-2.756372</td>\n",
       "    </tr>\n",
       "    <tr>\n",
       "      <th>4</th>\n",
       "      <td>1.008908</td>\n",
       "      <td>-0.869831</td>\n",
       "    </tr>\n",
       "  </tbody>\n",
       "</table>\n",
       "</div>"
      ],
      "text/plain": [
       "          0         1\n",
       "0  3.316751 -1.443463\n",
       "1  2.209465  0.333393\n",
       "2  2.516740 -1.031151\n",
       "3  3.757066 -2.756372\n",
       "4  1.008908 -0.869831"
      ]
     },
     "execution_count": 41,
     "metadata": {},
     "output_type": "execute_result"
    }
   ],
   "source": [
    "h_new_df.head()"
   ]
  },
  {
   "cell_type": "code",
   "execution_count": 42,
   "id": "a9f57758",
   "metadata": {
    "ExecuteTime": {
     "end_time": "2022-11-14T05:56:04.274813Z",
     "start_time": "2022-11-14T05:56:04.267547Z"
    }
   },
   "outputs": [],
   "source": [
    "hcf = linkage(h_new_df,method=\"complete\",metric=\"euclidean\")"
   ]
  },
  {
   "cell_type": "code",
   "execution_count": 43,
   "id": "5ce3d58a",
   "metadata": {
    "ExecuteTime": {
     "end_time": "2022-11-14T05:56:35.424166Z",
     "start_time": "2022-11-14T05:56:32.018733Z"
    }
   },
   "outputs": [
    {
     "data": {
      "image/png": "[encoded data removed]",
      "text/plain": [
       "<Figure size 1080x360 with 1 Axes>"
      ]
     },
     "metadata": {
      "needs_background": "light"
     },
     "output_type": "display_data"
    }
   ],
   "source": [
    "plt.figure(figsize=(15, 5));plt.title('Hierarchical Clustering Dendrogram');plt.xlabel('Index');plt.ylabel('Distance')\n",
    "sch.dendrogram(\n",
    "    hcf,\n",
    "    leaf_rotation=0.,\n",
    "    leaf_font_size=8.,\n",
    ")\n",
    "plt.show()"
   ]
  },
  {
   "cell_type": "code",
   "execution_count": 44,
   "id": "a3b43f20",
   "metadata": {
    "ExecuteTime": {
     "end_time": "2022-11-14T05:57:09.531022Z",
     "start_time": "2022-11-14T05:57:09.513251Z"
    }
   },
   "outputs": [],
   "source": [
    "h_complete = AgglomerativeClustering(n_clusters=5,linkage='complete',affinity = \"euclidean\").fit(h_new_df) "
   ]
  },
  {
   "cell_type": "code",
   "execution_count": 45,
   "id": "2a5d1523",
   "metadata": {
    "ExecuteTime": {
     "end_time": "2022-11-14T05:57:22.813688Z",
     "start_time": "2022-11-14T05:57:22.800845Z"
    }
   },
   "outputs": [
    {
     "data": {
      "text/plain": [
       "array([4, 3, 3, 4, 3, 4, 3, 3, 3, 3, 4, 3, 3, 4, 4, 3, 3, 3, 4, 3, 3, 3,\n",
       "       3, 3, 3, 3, 3, 3, 3, 3, 3, 3, 3, 3, 3, 3, 3, 3, 2, 4, 3, 3, 4, 3,\n",
       "       3, 3, 3, 3, 3, 4, 3, 3, 4, 3, 3, 3, 3, 3, 4, 2, 0, 0, 2, 2, 2, 2,\n",
       "       2, 2, 0, 2, 0, 2, 0, 3, 2, 2, 2, 0, 2, 2, 2, 2, 2, 0, 2, 2, 2, 2,\n",
       "       0, 2, 0, 0, 0, 2, 2, 3, 0, 2, 2, 2, 2, 2, 2, 2, 2, 0, 2, 0, 2, 2,\n",
       "       2, 2, 0, 2, 2, 2, 2, 2, 0, 2, 2, 3, 0, 0, 2, 2, 2, 0, 2, 0, 0, 0,\n",
       "       0, 0, 0, 0, 0, 0, 0, 0, 0, 0, 0, 0, 1, 0, 0, 0, 1, 1, 1, 1, 1, 1,\n",
       "       0, 1, 1, 0, 1, 1, 0, 1, 0, 0, 1, 0, 1, 1, 1, 1, 0, 0, 1, 1, 1, 1,\n",
       "       1, 1], dtype=int64)"
      ]
     },
     "execution_count": 45,
     "metadata": {},
     "output_type": "execute_result"
    }
   ],
   "source": [
    "h_complete.labels_"
   ]
  },
  {
   "cell_type": "code",
   "execution_count": 46,
   "id": "538c3a0d",
   "metadata": {
    "ExecuteTime": {
     "end_time": "2022-11-14T05:57:47.331279Z",
     "start_time": "2022-11-14T05:57:47.322672Z"
    }
   },
   "outputs": [],
   "source": [
    "cluster_labels=pd.Series(h_complete.labels_)"
   ]
  },
  {
   "cell_type": "code",
   "execution_count": 47,
   "id": "4ac19e23",
   "metadata": {
    "ExecuteTime": {
     "end_time": "2022-11-14T05:58:38.734859Z",
     "start_time": "2022-11-14T05:58:38.730610Z"
    }
   },
   "outputs": [],
   "source": [
    "hd['clust']=cluster_labels"
   ]
  },
  {
   "cell_type": "code",
   "execution_count": 48,
   "id": "d8c6321b",
   "metadata": {
    "ExecuteTime": {
     "end_time": "2022-11-14T05:58:51.655171Z",
     "start_time": "2022-11-14T05:58:51.608629Z"
    }
   },
   "outputs": [
    {
     "data": {
      "text/html": [
       "<div>\n",
       "<style scoped>\n",
       "    .dataframe tbody tr th:only-of-type {\n",
       "        vertical-align: middle;\n",
       "    }\n",
       "\n",
       "    .dataframe tbody tr th {\n",
       "        vertical-align: top;\n",
       "    }\n",
       "\n",
       "    .dataframe thead th {\n",
       "        text-align: right;\n",
       "    }\n",
       "</style>\n",
       "<table border=\"1\" class=\"dataframe\">\n",
       "  <thead>\n",
       "    <tr style=\"text-align: right;\">\n",
       "      <th></th>\n",
       "      <th>Alcohol</th>\n",
       "      <th>Malic</th>\n",
       "      <th>Ash</th>\n",
       "      <th>Alcalinity</th>\n",
       "      <th>Magnesium</th>\n",
       "      <th>Phenols</th>\n",
       "      <th>Flavanoids</th>\n",
       "      <th>Nonflavanoids</th>\n",
       "      <th>Proanthocyanins</th>\n",
       "      <th>Color</th>\n",
       "      <th>Hue</th>\n",
       "      <th>Dilution</th>\n",
       "      <th>Proline</th>\n",
       "      <th>clust</th>\n",
       "    </tr>\n",
       "  </thead>\n",
       "  <tbody>\n",
       "    <tr>\n",
       "      <th>0</th>\n",
       "      <td>14.23</td>\n",
       "      <td>1.71</td>\n",
       "      <td>2.43</td>\n",
       "      <td>15.6</td>\n",
       "      <td>127</td>\n",
       "      <td>2.80</td>\n",
       "      <td>3.06</td>\n",
       "      <td>0.28</td>\n",
       "      <td>2.29</td>\n",
       "      <td>5.64</td>\n",
       "      <td>1.04</td>\n",
       "      <td>3.92</td>\n",
       "      <td>1065</td>\n",
       "      <td>4</td>\n",
       "    </tr>\n",
       "    <tr>\n",
       "      <th>1</th>\n",
       "      <td>13.20</td>\n",
       "      <td>1.78</td>\n",
       "      <td>2.14</td>\n",
       "      <td>11.2</td>\n",
       "      <td>100</td>\n",
       "      <td>2.65</td>\n",
       "      <td>2.76</td>\n",
       "      <td>0.26</td>\n",
       "      <td>1.28</td>\n",
       "      <td>4.38</td>\n",
       "      <td>1.05</td>\n",
       "      <td>3.40</td>\n",
       "      <td>1050</td>\n",
       "      <td>3</td>\n",
       "    </tr>\n",
       "    <tr>\n",
       "      <th>2</th>\n",
       "      <td>13.16</td>\n",
       "      <td>2.36</td>\n",
       "      <td>2.67</td>\n",
       "      <td>18.6</td>\n",
       "      <td>101</td>\n",
       "      <td>2.80</td>\n",
       "      <td>3.24</td>\n",
       "      <td>0.30</td>\n",
       "      <td>2.81</td>\n",
       "      <td>5.68</td>\n",
       "      <td>1.03</td>\n",
       "      <td>3.17</td>\n",
       "      <td>1185</td>\n",
       "      <td>3</td>\n",
       "    </tr>\n",
       "    <tr>\n",
       "      <th>3</th>\n",
       "      <td>14.37</td>\n",
       "      <td>1.95</td>\n",
       "      <td>2.50</td>\n",
       "      <td>16.8</td>\n",
       "      <td>113</td>\n",
       "      <td>3.85</td>\n",
       "      <td>3.49</td>\n",
       "      <td>0.24</td>\n",
       "      <td>2.18</td>\n",
       "      <td>7.80</td>\n",
       "      <td>0.86</td>\n",
       "      <td>3.45</td>\n",
       "      <td>1480</td>\n",
       "      <td>4</td>\n",
       "    </tr>\n",
       "    <tr>\n",
       "      <th>4</th>\n",
       "      <td>13.24</td>\n",
       "      <td>2.59</td>\n",
       "      <td>2.87</td>\n",
       "      <td>21.0</td>\n",
       "      <td>118</td>\n",
       "      <td>2.80</td>\n",
       "      <td>2.69</td>\n",
       "      <td>0.39</td>\n",
       "      <td>1.82</td>\n",
       "      <td>4.32</td>\n",
       "      <td>1.04</td>\n",
       "      <td>2.93</td>\n",
       "      <td>735</td>\n",
       "      <td>3</td>\n",
       "    </tr>\n",
       "  </tbody>\n",
       "</table>\n",
       "</div>"
      ],
      "text/plain": [
       "   Alcohol  Malic   Ash  Alcalinity  Magnesium  Phenols  Flavanoids  \\\n",
       "0    14.23   1.71  2.43        15.6        127     2.80        3.06   \n",
       "1    13.20   1.78  2.14        11.2        100     2.65        2.76   \n",
       "2    13.16   2.36  2.67        18.6        101     2.80        3.24   \n",
       "3    14.37   1.95  2.50        16.8        113     3.85        3.49   \n",
       "4    13.24   2.59  2.87        21.0        118     2.80        2.69   \n",
       "\n",
       "   Nonflavanoids  Proanthocyanins  Color   Hue  Dilution  Proline  clust  \n",
       "0           0.28             2.29   5.64  1.04      3.92     1065      4  \n",
       "1           0.26             1.28   4.38  1.05      3.40     1050      3  \n",
       "2           0.30             2.81   5.68  1.03      3.17     1185      3  \n",
       "3           0.24             2.18   7.80  0.86      3.45     1480      4  \n",
       "4           0.39             1.82   4.32  1.04      2.93      735      3  "
      ]
     },
     "execution_count": 48,
     "metadata": {},
     "output_type": "execute_result"
    }
   ],
   "source": [
    "hd.head()"
   ]
  },
  {
   "cell_type": "code",
   "execution_count": 49,
   "id": "be3f4118",
   "metadata": {
    "ExecuteTime": {
     "end_time": "2022-11-14T06:02:33.243251Z",
     "start_time": "2022-11-14T06:02:33.226101Z"
    }
   },
   "outputs": [
    {
     "data": {
      "text/html": [
       "<div>\n",
       "<style scoped>\n",
       "    .dataframe tbody tr th:only-of-type {\n",
       "        vertical-align: middle;\n",
       "    }\n",
       "\n",
       "    .dataframe tbody tr th {\n",
       "        vertical-align: top;\n",
       "    }\n",
       "\n",
       "    .dataframe thead th {\n",
       "        text-align: right;\n",
       "    }\n",
       "</style>\n",
       "<table border=\"1\" class=\"dataframe\">\n",
       "  <thead>\n",
       "    <tr style=\"text-align: right;\">\n",
       "      <th></th>\n",
       "      <th>Alcohol</th>\n",
       "      <th>Malic</th>\n",
       "      <th>Ash</th>\n",
       "      <th>Alcalinity</th>\n",
       "      <th>Magnesium</th>\n",
       "      <th>Phenols</th>\n",
       "      <th>Flavanoids</th>\n",
       "      <th>Nonflavanoids</th>\n",
       "      <th>Proanthocyanins</th>\n",
       "      <th>Color</th>\n",
       "      <th>Hue</th>\n",
       "      <th>Dilution</th>\n",
       "      <th>Proline</th>\n",
       "    </tr>\n",
       "    <tr>\n",
       "      <th>clust</th>\n",
       "      <th></th>\n",
       "      <th></th>\n",
       "      <th></th>\n",
       "      <th></th>\n",
       "      <th></th>\n",
       "      <th></th>\n",
       "      <th></th>\n",
       "      <th></th>\n",
       "      <th></th>\n",
       "      <th></th>\n",
       "      <th></th>\n",
       "      <th></th>\n",
       "      <th></th>\n",
       "    </tr>\n",
       "  </thead>\n",
       "  <tbody>\n",
       "    <tr>\n",
       "      <th>0</th>\n",
       "      <td>12.686222</td>\n",
       "      <td>2.924000</td>\n",
       "      <td>2.380667</td>\n",
       "      <td>20.966667</td>\n",
       "      <td>95.000000</td>\n",
       "      <td>1.691556</td>\n",
       "      <td>1.088222</td>\n",
       "      <td>0.469556</td>\n",
       "      <td>1.090889</td>\n",
       "      <td>4.613556</td>\n",
       "      <td>0.824578</td>\n",
       "      <td>2.021111</td>\n",
       "      <td>571.444444</td>\n",
       "    </tr>\n",
       "    <tr>\n",
       "      <th>1</th>\n",
       "      <td>13.420435</td>\n",
       "      <td>3.390435</td>\n",
       "      <td>2.486087</td>\n",
       "      <td>21.847826</td>\n",
       "      <td>103.130435</td>\n",
       "      <td>1.777391</td>\n",
       "      <td>0.897826</td>\n",
       "      <td>0.428696</td>\n",
       "      <td>1.406522</td>\n",
       "      <td>9.203043</td>\n",
       "      <td>0.640000</td>\n",
       "      <td>1.640870</td>\n",
       "      <td>654.782609</td>\n",
       "    </tr>\n",
       "    <tr>\n",
       "      <th>2</th>\n",
       "      <td>12.238163</td>\n",
       "      <td>1.713061</td>\n",
       "      <td>2.165714</td>\n",
       "      <td>19.528571</td>\n",
       "      <td>92.061224</td>\n",
       "      <td>2.395510</td>\n",
       "      <td>2.204694</td>\n",
       "      <td>0.318163</td>\n",
       "      <td>1.713061</td>\n",
       "      <td>2.992653</td>\n",
       "      <td>1.096327</td>\n",
       "      <td>2.913265</td>\n",
       "      <td>509.755102</td>\n",
       "    </tr>\n",
       "    <tr>\n",
       "      <th>3</th>\n",
       "      <td>13.573265</td>\n",
       "      <td>2.016531</td>\n",
       "      <td>2.481429</td>\n",
       "      <td>18.069388</td>\n",
       "      <td>107.795918</td>\n",
       "      <td>2.758571</td>\n",
       "      <td>2.887551</td>\n",
       "      <td>0.296122</td>\n",
       "      <td>1.868980</td>\n",
       "      <td>5.175510</td>\n",
       "      <td>1.065510</td>\n",
       "      <td>3.166939</td>\n",
       "      <td>1055.551020</td>\n",
       "    </tr>\n",
       "    <tr>\n",
       "      <th>4</th>\n",
       "      <td>14.150000</td>\n",
       "      <td>1.963333</td>\n",
       "      <td>2.435000</td>\n",
       "      <td>15.150000</td>\n",
       "      <td>109.500000</td>\n",
       "      <td>3.248333</td>\n",
       "      <td>3.505833</td>\n",
       "      <td>0.276667</td>\n",
       "      <td>2.185000</td>\n",
       "      <td>6.735000</td>\n",
       "      <td>1.055833</td>\n",
       "      <td>3.188333</td>\n",
       "      <td>1289.333333</td>\n",
       "    </tr>\n",
       "  </tbody>\n",
       "</table>\n",
       "</div>"
      ],
      "text/plain": [
       "         Alcohol     Malic       Ash  Alcalinity   Magnesium   Phenols  \\\n",
       "clust                                                                    \n",
       "0      12.686222  2.924000  2.380667   20.966667   95.000000  1.691556   \n",
       "1      13.420435  3.390435  2.486087   21.847826  103.130435  1.777391   \n",
       "2      12.238163  1.713061  2.165714   19.528571   92.061224  2.395510   \n",
       "3      13.573265  2.016531  2.481429   18.069388  107.795918  2.758571   \n",
       "4      14.150000  1.963333  2.435000   15.150000  109.500000  3.248333   \n",
       "\n",
       "       Flavanoids  Nonflavanoids  Proanthocyanins     Color       Hue  \\\n",
       "clust                                                                   \n",
       "0        1.088222       0.469556         1.090889  4.613556  0.824578   \n",
       "1        0.897826       0.428696         1.406522  9.203043  0.640000   \n",
       "2        2.204694       0.318163         1.713061  2.992653  1.096327   \n",
       "3        2.887551       0.296122         1.868980  5.175510  1.065510   \n",
       "4        3.505833       0.276667         2.185000  6.735000  1.055833   \n",
       "\n",
       "       Dilution      Proline  \n",
       "clust                         \n",
       "0      2.021111   571.444444  \n",
       "1      1.640870   654.782609  \n",
       "2      2.913265   509.755102  \n",
       "3      3.166939  1055.551020  \n",
       "4      3.188333  1289.333333  "
      ]
     },
     "execution_count": 49,
     "metadata": {},
     "output_type": "execute_result"
    }
   ],
   "source": [
    "hd.groupby(hd.clust).mean()"
   ]
  },
  {
   "cell_type": "code",
   "execution_count": 51,
   "id": "7f2bc752",
   "metadata": {
    "ExecuteTime": {
     "end_time": "2022-11-14T06:06:04.844683Z",
     "start_time": "2022-11-14T06:06:04.832682Z"
    }
   },
   "outputs": [
    {
     "name": "stdout",
     "output_type": "stream",
     "text": [
      "By using PCA to reduce dimensionality of given data and using clustering classification we can say that 3 clusturs were there in wine data set.\n"
     ]
    }
   ],
   "source": [
    "print(\"By using PCA to reduce dimensionality of given data and using clustering classification we can say that 3 clusturs were there in wine data set.\")"
   ]
  },
  {
   "cell_type": "code",
   "execution_count": null,
   "id": "59bf1de3",
   "metadata": {},
   "outputs": [],
   "source": []
  },
  {
   "cell_type": "code",
   "execution_count": null,
   "id": "4379d5a6",
   "metadata": {},
   "outputs": [],
   "source": []
  },
  {
   "cell_type": "code",
   "execution_count": null,
   "id": "518168a2",
   "metadata": {},
   "outputs": [],
   "source": []
  }
 ],
 "metadata": {
  "kernelspec": {
   "display_name": "Python 3 (ipykernel)",
   "language": "python",
   "name": "python3"
  },
  "language_info": {
   "codemirror_mode": {
    "name": "ipython",
    "version": 3
   },
   "file_extension": ".py",
   "mimetype": "text/x-python",
   "name": "python",
   "nbconvert_exporter": "python",
   "pygments_lexer": "ipython3",
   "version": "3.9.12"
  }
 },
 "nbformat": 4,
 "nbformat_minor": 5
}
